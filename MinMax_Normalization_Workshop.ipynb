{
 "cells": [
  {
   "cell_type": "markdown",
   "metadata": {},
   "source": [
    "# 🏡 Min-Max Normalization Workshop\n",
    "## Team Name: \n",
    "## Team Members: \n",
    "---"
   ]
  },
  {
   "cell_type": "markdown",
   "metadata": {},
   "source": [
    "## ❗ Why We Normalize: The Problem with Raw Feature Scales\n",
    "\n",
    "In housing data, features like `Price` and `Lot_Size` can have values in the hundreds of thousands, while others like `Num_Bedrooms` range from 1 to 5. This creates problems when we use algorithms that depend on numeric magnitudes.\n",
    "\n",
    "---\n",
    "\n",
    "### ⚠️ What Goes Wrong Without Normalization\n",
    "\n",
    "---\n",
    "\n",
    "### 1. 🧭 K-Nearest Neighbors (KNN)\n",
    "\n",
    "KNN uses the **Euclidean distance** formula:\n",
    "\n",
    "$$\n",
    "d = \\sqrt{(x_1 - x_2)^2 + (y_1 - y_2)^2 + \\cdots}\n",
    "$$\n",
    "\n",
    "**Example:**\n",
    "\n",
    "- $ \\text{Price}_1 = 650{,}000, \\quad \\text{Price}_2 = 250{,}000 $\n",
    "- $ \\text{Bedrooms}_1 = 3, \\quad \\text{Bedrooms}_2 = 2 $\n",
    "\n",
    "Now compute squared differences:\n",
    "\n",
    "$$\n",
    "(\\text{Price}_1 - \\text{Price}_2)^2 = (650{,}000 - 250{,}000)^2 = (400{,}000)^2 = 1.6 \\times 10^{11}\n",
    "$$\n",
    "$$\n",
    "(\\text{Bedrooms}_1 - \\text{Bedrooms}_2)^2 = (3 - 2)^2 = 1\n",
    "$$\n",
    "\n",
    "➡️ **Price dominates the distance calculation**, making smaller features like `Bedrooms` irrelevant.\n",
    "\n",
    "---\n",
    "\n",
    "### 2. 📉 Linear Regression\n",
    "\n",
    "Linear regression estimates:\n",
    "\n",
    "$$\n",
    "y = \\beta_1 \\cdot \\text{Price} + \\beta_2 \\cdot \\text{Bedrooms} + \\beta_3 \\cdot \\text{Lot\\_Size} + \\epsilon\n",
    "$$\n",
    "\n",
    "If `Price` has very large values:\n",
    "- Gradient updates for $ \\beta_1 $ will be **much larger**\n",
    "- Gradient updates for $ \\beta_2 $ (Bedrooms) will be **very small**\n",
    "\n",
    "➡️ The model overfits high-magnitude features like `Price`.\n",
    "\n",
    "---\n",
    "\n",
    "### 3. 🧠 Neural Networks\n",
    "\n",
    "A single neuron computes:\n",
    "\n",
    "$$\n",
    "z = w_1 \\cdot \\text{Price} + w_2 \\cdot \\text{Bedrooms} + w_3 \\cdot \\text{Lot\\_Size}\n",
    "$$\n",
    "\n",
    "If:\n",
    "\n",
    "- $ \\text{Price} = 650{,}000 $\n",
    "- $ \\text{Bedrooms} = 3 $\n",
    "- $ \\text{Lot\\_Size} = 8{,}000 $\n",
    "\n",
    "Then:\n",
    "\n",
    "$$\n",
    "z \\approx w_1 \\cdot 650{,}000 + w_2 \\cdot 3 + w_3 \\cdot 8{,}000\n",
    "$$\n",
    "\n",
    "➡️ Even with equal weights, `Price` contributes **most of the activation**, making it difficult for the network to learn from other features.\n",
    "\n",
    "---\n",
    "\n",
    "### ✅ Solution: Min-Max Normalization\n",
    "\n",
    "We apply the transformation:\n",
    "\n",
    "$$\n",
    "x_{\\text{normalized}} = \\frac{x - x_{\\text{min}}}{x_{\\text{max}} - x_{\\text{min}}}\n",
    "$$\n",
    "\n",
    "This scales all features to a common range (typically $[0, 1]$).\n",
    "\n",
    "| Feature      | Raw Value | Min     | Max     | Normalized Value |\n",
    "|--------------|-----------|---------|---------|------------------|\n",
    "| Price        | 650,000   | 250,000 | 800,000 | 0.72             |\n",
    "| Bedrooms     | 3         | 1       | 5       | 0.50             |\n",
    "| Lot_Size     | 8,000     | 3,000   | 10,000  | 0.714            |\n",
    "\n",
    "➡️ Now, **each feature contributes fairly** to model training or distance comparisons."
   ]
  },
  {
   "cell_type": "markdown",
   "metadata": {},
   "source": [
    "---"
   ]
  },
  {
   "cell_type": "markdown",
   "metadata": {},
   "source": [
    "## 📌 Use Case: Housing Data\n",
    "We are normalizing features from a real estate dataset to prepare it for machine learning analysis."
   ]
  },
  {
   "cell_type": "code",
   "execution_count": 2,
   "metadata": {},
   "outputs": [
    {
     "name": "stderr",
     "output_type": "stream",
     "text": [
      "<>:3: SyntaxWarning: invalid escape sequence '\\d'\n",
      "<>:3: SyntaxWarning: invalid escape sequence '\\d'\n",
      "C:\\Users\\fasal\\AppData\\Local\\Temp\\ipykernel_10272\\260005469.py:3: SyntaxWarning: invalid escape sequence '\\d'\n",
      "  df = pd.read_csv('.\\data\\housing_data.csv')\n"
     ]
    },
    {
     "data": {
      "application/vnd.microsoft.datawrangler.viewer.v0+json": {
       "columns": [
        {
         "name": "index",
         "rawType": "int64",
         "type": "integer"
        },
        {
         "name": "House_ID",
         "rawType": "object",
         "type": "string"
        },
        {
         "name": "Price",
         "rawType": "int64",
         "type": "integer"
        },
        {
         "name": "Area_sqft",
         "rawType": "int64",
         "type": "integer"
        },
        {
         "name": "Num_Bedrooms",
         "rawType": "int64",
         "type": "integer"
        },
        {
         "name": "Num_Bathrooms",
         "rawType": "int64",
         "type": "integer"
        },
        {
         "name": "Year_Built",
         "rawType": "int64",
         "type": "integer"
        },
        {
         "name": "Lot_Size",
         "rawType": "int64",
         "type": "integer"
        }
       ],
       "ref": "5c9e0091-3e35-455b-b740-8967d19ae81f",
       "rows": [
        [
         "0",
         "H100000",
         "574507",
         "1462",
         "3",
         "3",
         "2002",
         "4878"
        ],
        [
         "1",
         "H100001",
         "479260",
         "1727",
         "2",
         "2",
         "1979",
         "4943"
        ],
        [
         "2",
         "H100002",
         "597153",
         "1403",
         "5",
         "2",
         "1952",
         "5595"
        ],
        [
         "3",
         "H100003",
         "728454",
         "1646",
         "5",
         "2",
         "1992",
         "9305"
        ],
        [
         "4",
         "H100004",
         "464876",
         "853",
         "1",
         "1",
         "1956",
         "7407"
        ]
       ],
       "shape": {
        "columns": 7,
        "rows": 5
       }
      },
      "text/html": [
       "<div>\n",
       "<style scoped>\n",
       "    .dataframe tbody tr th:only-of-type {\n",
       "        vertical-align: middle;\n",
       "    }\n",
       "\n",
       "    .dataframe tbody tr th {\n",
       "        vertical-align: top;\n",
       "    }\n",
       "\n",
       "    .dataframe thead th {\n",
       "        text-align: right;\n",
       "    }\n",
       "</style>\n",
       "<table border=\"1\" class=\"dataframe\">\n",
       "  <thead>\n",
       "    <tr style=\"text-align: right;\">\n",
       "      <th></th>\n",
       "      <th>House_ID</th>\n",
       "      <th>Price</th>\n",
       "      <th>Area_sqft</th>\n",
       "      <th>Num_Bedrooms</th>\n",
       "      <th>Num_Bathrooms</th>\n",
       "      <th>Year_Built</th>\n",
       "      <th>Lot_Size</th>\n",
       "    </tr>\n",
       "  </thead>\n",
       "  <tbody>\n",
       "    <tr>\n",
       "      <th>0</th>\n",
       "      <td>H100000</td>\n",
       "      <td>574507</td>\n",
       "      <td>1462</td>\n",
       "      <td>3</td>\n",
       "      <td>3</td>\n",
       "      <td>2002</td>\n",
       "      <td>4878</td>\n",
       "    </tr>\n",
       "    <tr>\n",
       "      <th>1</th>\n",
       "      <td>H100001</td>\n",
       "      <td>479260</td>\n",
       "      <td>1727</td>\n",
       "      <td>2</td>\n",
       "      <td>2</td>\n",
       "      <td>1979</td>\n",
       "      <td>4943</td>\n",
       "    </tr>\n",
       "    <tr>\n",
       "      <th>2</th>\n",
       "      <td>H100002</td>\n",
       "      <td>597153</td>\n",
       "      <td>1403</td>\n",
       "      <td>5</td>\n",
       "      <td>2</td>\n",
       "      <td>1952</td>\n",
       "      <td>5595</td>\n",
       "    </tr>\n",
       "    <tr>\n",
       "      <th>3</th>\n",
       "      <td>H100003</td>\n",
       "      <td>728454</td>\n",
       "      <td>1646</td>\n",
       "      <td>5</td>\n",
       "      <td>2</td>\n",
       "      <td>1992</td>\n",
       "      <td>9305</td>\n",
       "    </tr>\n",
       "    <tr>\n",
       "      <th>4</th>\n",
       "      <td>H100004</td>\n",
       "      <td>464876</td>\n",
       "      <td>853</td>\n",
       "      <td>1</td>\n",
       "      <td>1</td>\n",
       "      <td>1956</td>\n",
       "      <td>7407</td>\n",
       "    </tr>\n",
       "  </tbody>\n",
       "</table>\n",
       "</div>"
      ],
      "text/plain": [
       "  House_ID   Price  Area_sqft  Num_Bedrooms  Num_Bathrooms  Year_Built  \\\n",
       "0  H100000  574507       1462             3              3        2002   \n",
       "1  H100001  479260       1727             2              2        1979   \n",
       "2  H100002  597153       1403             5              2        1952   \n",
       "3  H100003  728454       1646             5              2        1992   \n",
       "4  H100004  464876        853             1              1        1956   \n",
       "\n",
       "   Lot_Size  \n",
       "0      4878  \n",
       "1      4943  \n",
       "2      5595  \n",
       "3      9305  \n",
       "4      7407  "
      ]
     },
     "execution_count": 2,
     "metadata": {},
     "output_type": "execute_result"
    }
   ],
   "source": [
    "# 🔢 Load and display dataset\n",
    "import pandas as pd\n",
    "df = pd.read_csv('.\\data\\housing_data.csv')\n",
    "df.head()"
   ]
  },
  {
   "cell_type": "markdown",
   "metadata": {},
   "source": [
    "### 🔎 Step 1 — Implement Min-Max Normalization on the Housing Dataset"
   ]
  },
  {
   "cell_type": "code",
   "execution_count": null,
   "metadata": {},
   "outputs": [],
   "source": [
    "# ✍️ Implement Min-Max Normalization manually here (no sklearn/numpy)\n",
    "# Normalize: Price, Area_sqft, Num_Bedrooms, Num_Bathrooms, Lot_Size"
   ]
  },
  {
   "cell_type": "code",
   "execution_count": 4,
   "metadata": {},
   "outputs": [
    {
     "data": {
      "application/vnd.microsoft.datawrangler.viewer.v0+json": {
       "columns": [
        {
         "name": "index",
         "rawType": "int64",
         "type": "integer"
        },
        {
         "name": "Price_normalized",
         "rawType": "float64",
         "type": "float"
        },
        {
         "name": "Area_sqft_normalized",
         "rawType": "float64",
         "type": "float"
        },
        {
         "name": "Num_Bedrooms_normalized",
         "rawType": "float64",
         "type": "float"
        },
        {
         "name": "Num_Bathrooms_normalized",
         "rawType": "float64",
         "type": "float"
        },
        {
         "name": "Lot_Size_normalized",
         "rawType": "float64",
         "type": "float"
        }
       ],
       "ref": "1aeec93b-86b3-44c6-a8c4-f5820eed1108",
       "rows": [
        [
         "0",
         "0.4852261304477206",
         "0.3157894736842105",
         "0.5",
         "1.0",
         "0.32081403044341494"
        ],
        [
         "1",
         "0.3878274972415634",
         "0.39458816532857566",
         "0.25",
         "0.5",
         "0.3261912640635341"
        ],
        [
         "2",
         "0.5083837044142144",
         "0.2982456140350877",
         "1.0",
         "0.5",
         "0.38012905360688287"
        ],
        [
         "3",
         "0.642650798796207",
         "0.3705025275052037",
         "1.0",
         "0.5",
         "0.6870450033090668"
        ],
        [
         "4",
         "0.3731185621566015",
         "0.13470115967885815",
         "0.0",
         "0.0",
         "0.5300297816015883"
        ]
       ],
       "shape": {
        "columns": 5,
        "rows": 5
       }
      },
      "text/html": [
       "<div>\n",
       "<style scoped>\n",
       "    .dataframe tbody tr th:only-of-type {\n",
       "        vertical-align: middle;\n",
       "    }\n",
       "\n",
       "    .dataframe tbody tr th {\n",
       "        vertical-align: top;\n",
       "    }\n",
       "\n",
       "    .dataframe thead th {\n",
       "        text-align: right;\n",
       "    }\n",
       "</style>\n",
       "<table border=\"1\" class=\"dataframe\">\n",
       "  <thead>\n",
       "    <tr style=\"text-align: right;\">\n",
       "      <th></th>\n",
       "      <th>Price_normalized</th>\n",
       "      <th>Area_sqft_normalized</th>\n",
       "      <th>Num_Bedrooms_normalized</th>\n",
       "      <th>Num_Bathrooms_normalized</th>\n",
       "      <th>Lot_Size_normalized</th>\n",
       "    </tr>\n",
       "  </thead>\n",
       "  <tbody>\n",
       "    <tr>\n",
       "      <th>0</th>\n",
       "      <td>0.485226</td>\n",
       "      <td>0.315789</td>\n",
       "      <td>0.50</td>\n",
       "      <td>1.0</td>\n",
       "      <td>0.320814</td>\n",
       "    </tr>\n",
       "    <tr>\n",
       "      <th>1</th>\n",
       "      <td>0.387827</td>\n",
       "      <td>0.394588</td>\n",
       "      <td>0.25</td>\n",
       "      <td>0.5</td>\n",
       "      <td>0.326191</td>\n",
       "    </tr>\n",
       "    <tr>\n",
       "      <th>2</th>\n",
       "      <td>0.508384</td>\n",
       "      <td>0.298246</td>\n",
       "      <td>1.00</td>\n",
       "      <td>0.5</td>\n",
       "      <td>0.380129</td>\n",
       "    </tr>\n",
       "    <tr>\n",
       "      <th>3</th>\n",
       "      <td>0.642651</td>\n",
       "      <td>0.370503</td>\n",
       "      <td>1.00</td>\n",
       "      <td>0.5</td>\n",
       "      <td>0.687045</td>\n",
       "    </tr>\n",
       "    <tr>\n",
       "      <th>4</th>\n",
       "      <td>0.373119</td>\n",
       "      <td>0.134701</td>\n",
       "      <td>0.00</td>\n",
       "      <td>0.0</td>\n",
       "      <td>0.530030</td>\n",
       "    </tr>\n",
       "  </tbody>\n",
       "</table>\n",
       "</div>"
      ],
      "text/plain": [
       "   Price_normalized  Area_sqft_normalized  Num_Bedrooms_normalized  \\\n",
       "0          0.485226              0.315789                     0.50   \n",
       "1          0.387827              0.394588                     0.25   \n",
       "2          0.508384              0.298246                     1.00   \n",
       "3          0.642651              0.370503                     1.00   \n",
       "4          0.373119              0.134701                     0.00   \n",
       "\n",
       "   Num_Bathrooms_normalized  Lot_Size_normalized  \n",
       "0                       1.0             0.320814  \n",
       "1                       0.5             0.326191  \n",
       "2                       0.5             0.380129  \n",
       "3                       0.5             0.687045  \n",
       "4                       0.0             0.530030  "
      ]
     },
     "execution_count": 4,
     "metadata": {},
     "output_type": "execute_result"
    }
   ],
   "source": [
    "# Manual Min-Max Normalization\n",
    "# Columns to normalize\n",
    "columns_to_normalize = ['Price', 'Area_sqft', 'Num_Bedrooms', 'Num_Bathrooms', 'Lot_Size']\n",
    "\n",
    "# Create a copy of the dataframe to store normalized values\n",
    "df_normalized = df.copy()\n",
    "\n",
    "# Function to perform Min-Max normalization on a single column\n",
    "def min_max_normalize(column):\n",
    "    min_val = min(column)\n",
    "    max_val = max(column)\n",
    "    # Check for division by zero\n",
    "    if max_val == min_val:\n",
    "        return [0] * len(column)  # Return zeros if all values are the same\n",
    "    return [(x - min_val) / (max_val - min_val) for x in column]\n",
    "\n",
    "# Apply normalization to each column\n",
    "for col in columns_to_normalize:\n",
    "    df_normalized[f'{col}_normalized'] = min_max_normalize(df[col])\n",
    "\n",
    "# Display the first few rows of the normalized dataframe\n",
    "df_normalized[[f'{col}_normalized' for col in columns_to_normalize]].head()"
   ]
  },
  {
   "cell_type": "markdown",
   "metadata": {},
   "source": [
    "### 🔎 Talking Point 1 — [Insert your review comment here]\n",
    "\n",
    "Reviwed by:\n",
    "- Name\n",
    "- Name\n",
    "- Name"
   ]
  }
 ],
 "metadata": {
  "kernelspec": {
   "display_name": "env",
   "language": "python",
   "name": "python3"
  },
  "language_info": {
   "codemirror_mode": {
    "name": "ipython",
    "version": 3
   },
   "file_extension": ".py",
   "mimetype": "text/x-python",
   "name": "python",
   "nbconvert_exporter": "python",
   "pygments_lexer": "ipython3",
   "version": "3.13.3"
  }
 },
 "nbformat": 4,
 "nbformat_minor": 2
}
